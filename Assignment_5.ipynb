{
 "cells": [
  {
   "cell_type": "raw",
   "id": "76a1641c",
   "metadata": {},
   "source": [
    "1. What does an empty dictionary's code look like?\n",
    "2. What is the value of a dictionary value with the key 'foo' and the value 42?\n",
    "3. What is the most significant distinction between a dictionary and a list?\n",
    "4. What happens if you try to access spam['foo'] if spam is {'bar': 100}?\n",
    "5. If a dictionary is stored in spam, what is the difference between the expressions 'cat' in spam and 'cat' in spam.keys()?\n",
    "6. If a dictionary is stored in spam, what is the difference between the expressions 'cat' in spam and 'cat' in spam.values()?\n",
    "7. What is a shortcut for the following code?\n",
    "if 'color' not in spam:\n",
    "spam['color'] = 'black'\n",
    "\n",
    "8. How do you \"pretty print\" dictionary values using which module and function?\n",
    "\n"
   ]
  },
  {
   "cell_type": "raw",
   "id": "2b917fb1",
   "metadata": {},
   "source": [
    "1. What does an empty dictionarys code look like?\n"
   ]
  },
  {
   "cell_type": "raw",
   "id": "dd0d004d",
   "metadata": {},
   "source": [
    "Ans-{}"
   ]
  },
  {
   "cell_type": "raw",
   "id": "6b1b4813",
   "metadata": {},
   "source": [
    "2. What is the value of a dictionary value with the key 'foo' and the value 42?"
   ]
  },
  {
   "cell_type": "raw",
   "id": "b53b8bba",
   "metadata": {},
   "source": [
    "Ans-42"
   ]
  },
  {
   "cell_type": "raw",
   "id": "56f99026",
   "metadata": {},
   "source": [
    "3. What is the most significant distinction between a dictionary and a list?"
   ]
  },
  {
   "cell_type": "raw",
   "id": "19d201c2",
   "metadata": {},
   "source": [
    "Ans-Dictionary store key value pair for every unique key we get it's associate value whereas list is ordered structure \n",
    "whose value can be asseced by particular index"
   ]
  },
  {
   "cell_type": "raw",
   "id": "7eccb7f4",
   "metadata": {},
   "source": [
    "4. What happens if you try to access spam['foo'] if spam is {'bar': 100}?"
   ]
  },
  {
   "cell_type": "markdown",
   "id": "61b1de3b",
   "metadata": {},
   "source": [
    "Ans- we will get an key error"
   ]
  },
  {
   "cell_type": "raw",
   "id": "a213f312",
   "metadata": {},
   "source": [
    "5. If a dictionary is stored in spam, what is the difference between the expressions 'cat' in spam and 'cat' in spam.keys()"
   ]
  },
  {
   "cell_type": "raw",
   "id": "85829585",
   "metadata": {},
   "source": [
    "Ans- Both will return true if cat is one of key in dictionary and false if not"
   ]
  },
  {
   "cell_type": "raw",
   "id": "90481350",
   "metadata": {},
   "source": [
    "6. If a dictionary is stored in spam, what is the difference between the expressions 'cat' in spam and 'cat' in spam.values()?"
   ]
  },
  {
   "cell_type": "raw",
   "id": "da1841bb",
   "metadata": {},
   "source": [
    "Ans-Both will return true if cat is one of value in dictionary and false if not"
   ]
  },
  {
   "cell_type": "raw",
   "id": "bf93f34c",
   "metadata": {},
   "source": [
    "7. What is a shortcut for the following code?\n",
    "if 'color' not in spam:\n",
    "spam['color'] = 'black'\n"
   ]
  },
  {
   "cell_type": "raw",
   "id": "b65de6e5",
   "metadata": {},
   "source": [
    "Ans-"
   ]
  },
  {
   "cell_type": "raw",
   "id": "4ecf78ba",
   "metadata": {},
   "source": [
    "8. How do you \"pretty print\" dictionary values using which module and function?"
   ]
  },
  {
   "cell_type": "raw",
   "id": "885072a6",
   "metadata": {},
   "source": [
    "Ans-pprint is a Python module that provides the capability to pretty print Python data types to be more readable.\n",
    "    we can print dic by pprint.pprint(dict_name)"
   ]
  },
  {
   "cell_type": "code",
   "execution_count": null,
   "id": "f5a0a087",
   "metadata": {},
   "outputs": [],
   "source": []
  }
 ],
 "metadata": {
  "kernelspec": {
   "display_name": "Python 3 (ipykernel)",
   "language": "python",
   "name": "python3"
  },
  "language_info": {
   "codemirror_mode": {
    "name": "ipython",
    "version": 3
   },
   "file_extension": ".py",
   "mimetype": "text/x-python",
   "name": "python",
   "nbconvert_exporter": "python",
   "pygments_lexer": "ipython3",
   "version": "3.9.7"
  }
 },
 "nbformat": 4,
 "nbformat_minor": 5
}
